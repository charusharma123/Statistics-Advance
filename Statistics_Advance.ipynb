{
  "nbformat": 4,
  "nbformat_minor": 0,
  "metadata": {
    "colab": {
      "provenance": []
    },
    "kernelspec": {
      "name": "python3",
      "display_name": "Python 3"
    },
    "language_info": {
      "name": "python"
    }
  },
  "cells": [
    {
      "cell_type": "markdown",
      "source": [
        "# Statistics Advance:"
      ],
      "metadata": {
        "id": "psn38I--FxNP"
      }
    },
    {
      "cell_type": "markdown",
      "source": [
        "1. What is the random variable in probability theory?\n",
        "- A random variable is a numerical quantity whose value depends on the outcomes of a random phenomenon. It assigns numerical values to each possible outcomes of a random experiment.\n",
        "\n",
        "2. What are the type of random variables?\n",
        "- There are two main types:\n",
        "- Discrete random variables: Take on countable values (e.g., number of successes)\n",
        "- Continuous random variables: Take on any value in a continuous range (e.g., height, weight)\n",
        "\n",
        "3. What is the difference between discrete and continuous distributions?\n",
        "- Discrete distributions describe probabilities for countable outcomes, while continuous distributions describe probabilities for uncountable, measurable outcomes. Discrete uses probability mass functions (PMFs), continuous uses probability density functions (PDFs).\n",
        "\n",
        "4. What are probability distribution functions (PDF)?\n",
        "- For continuous variables, PDF is a function that describes the relative likelihood for the random variable to take a given value. The area under the PDF curve between two points corresponds to the probability of the variable falling within that range.\n",
        "\n",
        "5. How do cumulative dictribution function (CDF) differ from probability distribution function(PDF)?\n",
        "- CDF gives the probability that a random variable is less than or equal to a certain value (F(x) = P(X ≤ x)), while PDF (for continuous variables) gives the density at a point. The CDF is the integral of the PDF.\n",
        "\n",
        "6. What is a discrete uniform distribution?\n",
        "- A distribution where each possible outcome has an equal probability. For example, the probability distribution of a fair die where each face (1-6) has probability 1/6.\n",
        "\n",
        "7. What are the key properties of a Bernoulli distribution?\n",
        "-  Models a single trial with two outcomes (success/failure)\n",
        "- Has one parameter p (probability of success)\n",
        "- Mean = p, Variance = p(1-p)\n",
        "- PMF: P(X=1) = p, P(X=0) = 1-p\n",
        "\n",
        "8. What is the binomial distribution, and how is it used in probability?\n",
        "- The binomial distribution models the number of successes in n independent Bernoulli trials with the same success probability p. Its PMF is P(X=k) = C(n,k)p^k(1-p)^(n-k), where C(n,k) is the combination formula.\n",
        "\n",
        "9. What is the Poisson distribution and where is it applied?\n",
        "- A discrete distribution that models the number of events occurring in a fixed interval of time/space, given a constant mean rate (λ). Used for rare events like call center arrivals, radioactive decay, etc. PMF: P(X=k) = (e^{-λ}λ^k)/k!\n",
        "\n",
        "10. Whar is a continuous uniform distribution?\n",
        "- A distribution where all intervals of the same length have equal probability. Defined by parameters a and b (minimum and maximum values). PDF is f(x) = 1/(b-a) for a ≤ x ≤ b, 0 otherwise.\n",
        "\n",
        "11. What are the characterstics of a normal distribution?\n",
        "-  Bell-shaped, symmetric about the mean\n",
        "- Mean = median = mode\n",
        "- Defined by μ (mean) and σ (standard deviation)\n",
        "- Follows 68-95-99.7 rule (empirical rule)\n",
        "- Total area under curve = 1\n",
        "\n",
        "12. What is the standered normal distribution, and why it is important?\n",
        "- A normal distribution with μ=0 and σ=1. Important because any normal distribution can be converted to standard normal using z-scores, allowing use of standard normal tables. Denoted as N(0,1).\n",
        "\n",
        "13. What is the Central Limit Theorem (CLT), and why is it critical in statistics?\n",
        "- CLT states that the sampling distribution of the mean approaches a normal distribution as sample size increases, regardless of the population distribution. Critical because it justifies many statistical methods and allows inference even when population distribution is unknown.\n",
        "\n",
        "14. How does the central Limit Theoram relate to the normal distribution?\n",
        "- CLT shows that means of samples from any distribution (with finite variance) will approximate a normal distribution as sample size grows. This makes the normal distribution fundamental in statistics for inference.\n",
        "\n",
        "15. What is the applicaation of Z statistics in hypothesis testing?\n",
        "- Z-statistics are used in z-tests to determine how many standard deviations an observation is from the mean. Used for hypothesis testing when population parameters are known, especially for large samples or normally distributed data.\n",
        "\n",
        "16. How do you calculate a Z-score, and what does it represent?\n",
        "- Z = (X - μ)/σ, where X is the value, μ is the mean, σ is the standard deviation. It represents how many standard deviations a value is from the mean.\n",
        "\n",
        "17. What are points estimates and interval estimates in statistics?\n",
        "- Point estimate: Single value estimate of a population parameter (e.g., sample mean for population mean)\n",
        "- Interval estimate: Range of values within which the parameter is estimated to lie (e.g., confidence interval)\n",
        "\n",
        "18. What is the signature of confidence intervals in statistical analysis?\n",
        "- Confidence intervals provide a range of plausible values for a population parameter with a specified level of confidence (e.g., 95%). They give more information than point estimates by indicating estimate precision.\n",
        "\n",
        "19. WHat is the relationship between a Z-score and a confidence interval?\n",
        "- Confidence intervals for means often use z-scores: CI = x̄ ± z*(σ/√n), where z* is the critical z-value corresponding to the desired confidence level (e.g., 1.96 for 95% CI).\n",
        "\n",
        "20. How are Z-scores used to compare different distributions?\n",
        "- Z-scores standardize values from different distributions to a common scale (standard normal), allowing comparison of relative positions across different distributions with different units/scales.\n",
        "\n",
        "21. What are the assumptions for appling the Central limit Theorem?\n",
        "- Key assumptions:\n",
        "  * Random sampling\n",
        "  * Independent observations\n",
        "  * Sample size large enough (typically n ≥ 30, though depends on population distribution)\n",
        "  \n",
        "  * Finite population variance\n",
        "\n",
        "22. What is the concept of expected value in a probability distribution?\n",
        "- The expected value (mean) is the long-run average value of repetitions of the experiment it represents. For discrete variables: E(X) = ΣxP(X=x); for continuous: E(X) = ∫xf(x)dx.\n",
        "\n",
        "\n",
        "23. How does a probability distribution relate to the expected outcome of a ramdom variable?\n",
        "- The probability distribution completely describes all possible outcomes and their probabilities, while the expected value is a summary measure of the center of this distribution - the theoretical average outcome over many trials.\n",
        "\n"
      ],
      "metadata": {
        "id": "mg6RUfEIFw-2"
      }
    },
    {
      "cell_type": "code",
      "execution_count": null,
      "metadata": {
        "id": "ogbV2BIcDfWG"
      },
      "outputs": [],
      "source": []
    }
  ]
}